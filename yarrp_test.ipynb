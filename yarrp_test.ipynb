{
 "cells": [
  {
   "cell_type": "code",
   "execution_count": 2,
   "metadata": {},
   "outputs": [],
   "source": [
    "import yaml\n",
    "import parameters as prms\n",
    "import numpy as np"
   ]
  },
  {
   "cell_type": "code",
   "execution_count": 145,
   "metadata": {},
   "outputs": [
    {
     "name": "stdout",
     "output_type": "stream",
     "text": [
      "{'calibration': {'apgaintable': 'apgain.cal', 'bpassgaintable': 'bpassgain.gcal', 'bpasstable': 'bandpass.cal', 'delaytable': 'delays.cal', 'fluxscaletable': 'fluxscale.tbl', 'gaintables': ['delays.cal', 'bandpass.cal', 'fluxscale.tbl']}, 'flagging': {'badants': ['C04', 'W06'], 'refant': 'C00'}, 'general': {'bandcal': None, 'fitsfile': None, 'fluxcal': ['3C286', '3C147'], 'msfile': '../CGCG032-017_cen1K_split.ms', 'outdir': '../out_CGCG032-017_cen1K_split.ms/', 'targetcalfile': '../RGG5_cen1k_yarrp_cal.ms', 'phasecal': '0745+101', 'spw': '0', 'target': 'RGG5', 'uvran': '0~1000klambda', 'temp': '../temp/'}, 'imagecal': {'outimage': '../RGG5_cont', 'chanbin': 82, 'spec_line_spw': '0:5~6', 'uvran': '0.5~100klambda', 'uvtaper': ['90klambda'], 'imsize': 4500, 'cell': 0.4, 'robust': 0, 'weighting': 'briggs', 'nterms': 2, 'niter_range': [2000, 5000], 'threshold_range': [1, 0.06], 'threshold_final': 0.04, 'wprojplanes': -1, 'scales': [0, 5, 15], 'solints': [8, 1]}}\n"
     ]
    }
   ],
   "source": [
    "with open('parameters.yaml') as file:\n",
    "    params = yaml.safe_load(file)\n",
    "print(params)"
   ]
  },
  {
   "cell_type": "code",
   "execution_count": 41,
   "metadata": {},
   "outputs": [
    {
     "data": {
      "text/plain": [
       "'fluxscale.tbl'"
      ]
     },
     "execution_count": 41,
     "metadata": {},
     "output_type": "execute_result"
    }
   ],
   "source": [
    "params['calibration']['fluxscaletable']"
   ]
  },
  {
   "cell_type": "code",
   "execution_count": 14,
   "metadata": {},
   "outputs": [],
   "source": [
    "caltables = params['calibration']"
   ]
  },
  {
   "cell_type": "code",
   "execution_count": 16,
   "metadata": {},
   "outputs": [],
   "source": [
    "gaintables = {'gaintables': ['delay.cal', 'bpass.cal']}"
   ]
  },
  {
   "cell_type": "code",
   "execution_count": 144,
   "metadata": {},
   "outputs": [
    {
     "name": "stdout",
     "output_type": "stream",
     "text": [
      "[8, 1]\n",
      "['8.0min', '6.25min', '4.5min', '2.75min', '1.0min']\n"
     ]
    }
   ],
   "source": [
    "solints = params['imagecal']['solints']\n",
    "print(solints)\n",
    "solint_range = np.linspace(solints[0], solints[1], 5)\n",
    "solint_range = [str(i)+'min' for i in solint_range]\n",
    "\n",
    "print(solint_range)"
   ]
  },
  {
   "cell_type": "code",
   "execution_count": 156,
   "metadata": {},
   "outputs": [
    {
     "name": "stdout",
     "output_type": "stream",
     "text": [
      "[2000, 2009, 2018, 2027, 2037, 2046, 2055, 2065, 2074, 2083, 2093, 2102, 2111, 2121, 2130, 2139, 2149, 2158, 2167, 2177, 2186, 2195, 2204, 2214, 2223, 2232, 2242, 2251, 2260, 2270, 2279, 2288, 2298, 2307, 2316, 2326, 2335, 2344, 2354, 2363, 2372, 2381, 2391, 2400, 2409, 2419, 2428, 2437, 2447, 2456, 2465, 2475, 2484, 2493, 2503, 2512, 2521, 2531, 2540, 2549, 2559, 2568, 2577, 2586, 2596, 2605, 2614, 2624, 2633, 2642, 2652, 2661, 2670, 2680, 2689, 2698, 2708, 2717, 2726, 2736, 2745, 2754, 2763, 2773, 2782, 2791, 2801, 2810, 2819, 2829, 2838, 2847, 2857, 2866, 2875, 2885, 2894, 2903, 2913, 2922, 2931, 2940, 2950, 2959, 2968, 2978, 2987, 2996, 3006, 3015, 3024, 3034, 3043, 3052, 3062, 3071, 3080, 3090, 3099, 3108, 3118, 3127, 3136, 3145, 3155, 3164, 3173, 3183, 3192, 3201, 3211, 3220, 3229, 3239, 3248, 3257, 3267, 3276, 3285, 3295, 3304, 3313, 3322, 3332, 3341, 3350, 3360, 3369, 3378, 3388, 3397, 3406, 3416, 3425, 3434, 3444, 3453, 3462, 3472, 3481, 3490, 3500, 3509, 3518, 3527, 3537, 3546, 3555, 3565, 3574, 3583, 3593, 3602, 3611, 3621, 3630, 3639, 3649, 3658, 3667, 3677, 3686, 3695, 3704, 3714, 3723, 3732, 3742, 3751, 3760, 3770, 3779, 3788, 3798, 3807, 3816, 3826, 3835, 3844, 3854, 3863, 3872, 3881, 3891, 3900, 3909, 3919, 3928, 3937, 3947, 3956, 3965, 3975, 3984, 3993, 4003, 4012, 4021, 4031, 4040, 4049, 4059, 4068, 4077, 4086, 4096, 4105, 4114, 4124, 4133, 4142, 4152, 4161, 4170, 4180, 4189, 4198, 4208, 4217, 4226, 4236, 4245, 4254, 4263, 4273, 4282, 4291, 4301, 4310, 4319, 4329, 4338, 4347, 4357, 4366, 4375, 4385, 4394, 4403, 4413, 4422, 4431, 4440, 4450, 4459, 4468, 4478, 4487, 4496, 4506, 4515, 4524, 4534, 4543, 4552, 4562, 4571, 4580, 4590, 4599, 4608, 4618, 4627, 4636, 4645, 4655, 4664, 4673, 4683, 4692, 4701, 4711, 4720, 4729, 4739, 4748, 4757, 4767, 4776, 4785, 4795, 4804, 4813, 4822, 4832, 4841, 4850, 4860, 4869, 4878, 4888, 4897, 4906, 4916, 4925, 4934, 4944, 4953, 4962, 4972, 4981, 4990, 5000]\n"
     ]
    }
   ],
   "source": [
    "imaging_params = params['imagecal']\n",
    "niter_range = imaging_params['niter_range']\n",
    "niter_range = np.linspace(niter_range[0], niter_range[1], 323)\n",
    "niter_range = [int(i) for i in niter_range]\n",
    "print(niter_range)"
   ]
  },
  {
   "cell_type": "code",
   "execution_count": 100,
   "metadata": {},
   "outputs": [
    {
     "data": {
      "text/plain": [
       "'apgain.cal'"
      ]
     },
     "execution_count": 100,
     "metadata": {},
     "output_type": "execute_result"
    }
   ],
   "source": [
    "params['calibration']['apgaintable']"
   ]
  },
  {
   "cell_type": "code",
   "execution_count": 103,
   "metadata": {},
   "outputs": [],
   "source": [
    "params['calibration']['gaintables'].append(params['calibration']['fluxscaletable'])"
   ]
  },
  {
   "cell_type": "code",
   "execution_count": 132,
   "metadata": {},
   "outputs": [],
   "source": [
    "targetcalfile = params['general']['targetcalfile']\n",
    "avspcfile = targetcalfile[:-3]+'_avspc.ms'"
   ]
  },
  {
   "cell_type": "code",
   "execution_count": 133,
   "metadata": {},
   "outputs": [
    {
     "name": "stdout",
     "output_type": "stream",
     "text": [
      "../RGG5_cen1k_yarrp_cal_avspc.ms\n"
     ]
    }
   ],
   "source": [
    "print(avspcfile)"
   ]
  },
  {
   "cell_type": "code",
   "execution_count": 65,
   "metadata": {},
   "outputs": [],
   "source": [
    "def clip_est(fluxscale, uplim, loop, beta):\n",
    "            return [fluxscale - uplim/loop**beta, fluxscale + uplim/loop**beta]\n",
    "\n"
   ]
  },
  {
   "cell_type": "code",
   "execution_count": 129,
   "metadata": {},
   "outputs": [
    {
     "name": "stdout",
     "output_type": "stream",
     "text": [
      "[-16.7, 23.3]\n",
      "[-9.895079107728943, 16.495079107728944]\n",
      "[-7.045637159435732, 13.645637159435733]\n",
      "[-5.405505632961243, 12.005505632961242]\n",
      "[-4.314615754863515, 10.914615754863515]\n"
     ]
    }
   ],
   "source": [
    "for i in range(5):\n",
    "    print(clip_est(3.3, 20, i+1, 0.6))"
   ]
  },
  {
   "cell_type": "code",
   "execution_count": 174,
   "metadata": {},
   "outputs": [
    {
     "data": {
      "text/plain": [
       "6.249984"
      ]
     },
     "execution_count": 174,
     "metadata": {},
     "output_type": "execute_result"
    }
   ],
   "source": [
    "12.207*1024/2000"
   ]
  },
  {
   "cell_type": "code",
   "execution_count": 171,
   "metadata": {},
   "outputs": [
    {
     "data": {
      "text/plain": [
       "1406.6487274455822"
      ]
     },
     "execution_count": 171,
     "metadata": {},
     "output_type": "execute_result"
    }
   ],
   "source": [
    "1420.405752/(1+0.00978)"
   ]
  },
  {
   "cell_type": "code",
   "execution_count": 14,
   "metadata": {
    "scrolled": true
   },
   "outputs": [
    {
     "data": {
      "text/plain": [
       "array([0])"
      ]
     },
     "execution_count": 14,
     "metadata": {},
     "output_type": "execute_result"
    }
   ],
   "source": [
    "np.arange(1)"
   ]
  },
  {
   "cell_type": "code",
   "execution_count": 130,
   "metadata": {},
   "outputs": [
    {
     "name": "stdout",
     "output_type": "stream",
     "text": [
      "Continuum Thermal rms is 0.011900938276368612 mJy\n"
     ]
    }
   ],
   "source": [
    "# Continuum thermal rms calculator\n",
    "nvis = 1757482*6\n",
    "bw = 3.48*10**6 # Hz\n",
    "Tsys = 45\n",
    "G = 0.22\n",
    "interval = 8.05 # secs\n",
    "\n",
    "rms = (Tsys/(G))*1/(np.sqrt(nvis*bw*interval))*10**3 # \n",
    "\n",
    "print('Continuum Thermal rms is', rms, 'mJy')\n"
   ]
  },
  {
   "cell_type": "code",
   "execution_count": 132,
   "metadata": {},
   "outputs": [
    {
     "data": {
      "text/plain": [
       "245.7606291472106"
      ]
     },
     "execution_count": 132,
     "metadata": {},
     "output_type": "execute_result"
    }
   ],
   "source": [
    "2000/8.138"
   ]
  },
  {
   "cell_type": "code",
   "execution_count": 139,
   "metadata": {},
   "outputs": [
    {
     "data": {
      "text/plain": [
       "244"
      ]
     },
     "execution_count": 139,
     "metadata": {},
     "output_type": "execute_result"
    }
   ],
   "source": [
    "123 + 121"
   ]
  },
  {
   "cell_type": "markdown",
   "metadata": {},
   "source": [
    "## Cube thermal rms calculator"
   ]
  },
  {
   "cell_type": "code",
   "execution_count": 15,
   "metadata": {},
   "outputs": [
    {
     "name": "stdout",
     "output_type": "stream",
     "text": [
      "2.7169378438028624\n",
      "Per channel thermal rms is 0.28343240948950205 mJy\n"
     ]
    }
   ],
   "source": [
    "# thermal rms calculator based on number of visibilities\n",
    "\n",
    "nvis = 1193288 + 274310 #301956 #+113282\n",
    "ch_width = 100/8192*10**6\n",
    "c = 299792.458 # km/s\n",
    "vel_orig = c*(ch_width/(1420.405752*10**6))\n",
    "vel_cube = 7 #km/s\n",
    "ratio = vel_cube/vel_orig\n",
    "print(ratio)\n",
    "Tsys = 45\n",
    "G = 0.22\n",
    "interval =  10.7 #s\n",
    "\n",
    "rms = (Tsys/(G))*1/(np.sqrt(nvis*ratio*ch_width*interval))*10**3 # 10.7 is the integration time of each uvdatapoint\n",
    "\n",
    "print('Per channel thermal rms is', rms, 'mJy')"
   ]
  },
  {
   "cell_type": "code",
   "execution_count": 16,
   "metadata": {},
   "outputs": [
    {
     "data": {
      "text/plain": [
       "1.682940920056171"
      ]
     },
     "execution_count": 16,
     "metadata": {},
     "output_type": "execute_result"
    }
   ],
   "source": [
    "(0.477/rms)"
   ]
  },
  {
   "cell_type": "code",
   "execution_count": 162,
   "metadata": {},
   "outputs": [
    {
     "data": {
      "text/plain": [
       "1.5275252316519468"
      ]
     },
     "execution_count": 162,
     "metadata": {},
     "output_type": "execute_result"
    }
   ],
   "source": [
    "1*np.sqrt(7/3)"
   ]
  },
  {
   "cell_type": "code",
   "execution_count": 7,
   "metadata": {},
   "outputs": [
    {
     "data": {
      "text/plain": [
       "0.3079584312133252"
      ]
     },
     "execution_count": 7,
     "metadata": {},
     "output_type": "execute_result"
    }
   ],
   "source": [
    " 95568432/(214760568+95568432)"
   ]
  },
  {
   "cell_type": "code",
   "execution_count": 169,
   "metadata": {},
   "outputs": [
    {
     "data": {
      "text/plain": [
       "1.8166666666666667"
      ]
     },
     "execution_count": 169,
     "metadata": {},
     "output_type": "execute_result"
    }
   ],
   "source": [
    "109/60"
   ]
  },
  {
   "cell_type": "code",
   "execution_count": 99,
   "metadata": {},
   "outputs": [
    {
     "data": {
      "text/plain": [
       "22"
      ]
     },
     "execution_count": 99,
     "metadata": {},
     "output_type": "execute_result"
    }
   ],
   "source": [
    "211 - 189"
   ]
  },
  {
   "cell_type": "code",
   "execution_count": 115,
   "metadata": {},
   "outputs": [
    {
     "data": {
      "text/plain": [
       "61.433363230903446"
      ]
     },
     "execution_count": 115,
     "metadata": {},
     "output_type": "execute_result"
    }
   ],
   "source": [
    "500/8.1389"
   ]
  },
  {
   "cell_type": "code",
   "execution_count": 116,
   "metadata": {},
   "outputs": [
    {
     "data": {
      "text/plain": [
       "8.39344262295082"
      ]
     },
     "execution_count": 116,
     "metadata": {},
     "output_type": "execute_result"
    }
   ],
   "source": [
    "512/61"
   ]
  },
  {
   "cell_type": "code",
   "execution_count": 117,
   "metadata": {},
   "outputs": [
    {
     "data": {
      "text/plain": [
       "0.22445016235920695"
      ]
     },
     "execution_count": 117,
     "metadata": {},
     "output_type": "execute_result"
    }
   ],
   "source": [
    "49789582/(172039538+49789582)"
   ]
  },
  {
   "cell_type": "code",
   "execution_count": 6,
   "metadata": {},
   "outputs": [
    {
     "data": {
      "text/plain": [
       "78.60000000000001"
      ]
     },
     "execution_count": 6,
     "metadata": {},
     "output_type": "execute_result"
    }
   ],
   "source": [
    "0.05*26.2*60"
   ]
  }
 ],
 "metadata": {
  "kernelspec": {
   "display_name": "Python 3",
   "language": "python",
   "name": "python3"
  },
  "language_info": {
   "codemirror_mode": {
    "name": "ipython",
    "version": 3
   },
   "file_extension": ".py",
   "mimetype": "text/x-python",
   "name": "python",
   "nbconvert_exporter": "python",
   "pygments_lexer": "ipython3",
   "version": "3.6.9"
  }
 },
 "nbformat": 4,
 "nbformat_minor": 4
}
